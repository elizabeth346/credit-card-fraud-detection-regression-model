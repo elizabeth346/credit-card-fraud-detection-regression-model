{
  "cells": [
    {
      "cell_type": "code",
      "execution_count": null,
      "id": "6ff19b7c",
      "metadata": {
        "id": "6ff19b7c"
      },
      "outputs": [],
      "source": [
        "#Import necessary libraries\n",
        "import pandas as pd\n",
        "import numpy as np\n",
        "import matplotlib.pyplot as plt\n",
        "from sklearn.model_selection import train_test_split\n",
        "from sklearn.linear_model import LogisticRegression\n",
        "from sklearn.metrics import accuracy_score\n"
      ]
    },
    {
      "cell_type": "code",
      "execution_count": null,
      "id": "8a1f0057",
      "metadata": {
        "id": "8a1f0057"
      },
      "outputs": [],
      "source": [
        "#loading dataset into Pandas Dataset\n",
        "data = pd.read_csv(r\"C:\\Users\\LIZZIE\\Downloads\\creditcard_2023.csv\")"
      ]
    },
    {
      "cell_type": "code",
      "execution_count": null,
      "id": "5b20cc52",
      "metadata": {
        "id": "5b20cc52",
        "outputId": "ca465d49-f931-44f0-fc83-ee3e30ae265a"
      },
      "outputs": [
        {
          "data": {
            "text/html": [
              "<div>\n",
              "<style scoped>\n",
              "    .dataframe tbody tr th:only-of-type {\n",
              "        vertical-align: middle;\n",
              "    }\n",
              "\n",
              "    .dataframe tbody tr th {\n",
              "        vertical-align: top;\n",
              "    }\n",
              "\n",
              "    .dataframe thead th {\n",
              "        text-align: right;\n",
              "    }\n",
              "</style>\n",
              "<table border=\"1\" class=\"dataframe\">\n",
              "  <thead>\n",
              "    <tr style=\"text-align: right;\">\n",
              "      <th></th>\n",
              "      <th>id</th>\n",
              "      <th>V1</th>\n",
              "      <th>V2</th>\n",
              "      <th>V3</th>\n",
              "      <th>V4</th>\n",
              "      <th>V5</th>\n",
              "      <th>V6</th>\n",
              "      <th>V7</th>\n",
              "      <th>V8</th>\n",
              "      <th>V9</th>\n",
              "      <th>...</th>\n",
              "      <th>V21</th>\n",
              "      <th>V22</th>\n",
              "      <th>V23</th>\n",
              "      <th>V24</th>\n",
              "      <th>V25</th>\n",
              "      <th>V26</th>\n",
              "      <th>V27</th>\n",
              "      <th>V28</th>\n",
              "      <th>Amount</th>\n",
              "      <th>Class</th>\n",
              "    </tr>\n",
              "  </thead>\n",
              "  <tbody>\n",
              "    <tr>\n",
              "      <th>0</th>\n",
              "      <td>0</td>\n",
              "      <td>-0.260648</td>\n",
              "      <td>-0.469648</td>\n",
              "      <td>2.496266</td>\n",
              "      <td>-0.083724</td>\n",
              "      <td>0.129681</td>\n",
              "      <td>0.732898</td>\n",
              "      <td>0.519014</td>\n",
              "      <td>-0.130006</td>\n",
              "      <td>0.727159</td>\n",
              "      <td>...</td>\n",
              "      <td>-0.110552</td>\n",
              "      <td>0.217606</td>\n",
              "      <td>-0.134794</td>\n",
              "      <td>0.165959</td>\n",
              "      <td>0.126280</td>\n",
              "      <td>-0.434824</td>\n",
              "      <td>-0.081230</td>\n",
              "      <td>-0.151045</td>\n",
              "      <td>17982.10</td>\n",
              "      <td>0</td>\n",
              "    </tr>\n",
              "    <tr>\n",
              "      <th>1</th>\n",
              "      <td>1</td>\n",
              "      <td>0.985100</td>\n",
              "      <td>-0.356045</td>\n",
              "      <td>0.558056</td>\n",
              "      <td>-0.429654</td>\n",
              "      <td>0.277140</td>\n",
              "      <td>0.428605</td>\n",
              "      <td>0.406466</td>\n",
              "      <td>-0.133118</td>\n",
              "      <td>0.347452</td>\n",
              "      <td>...</td>\n",
              "      <td>-0.194936</td>\n",
              "      <td>-0.605761</td>\n",
              "      <td>0.079469</td>\n",
              "      <td>-0.577395</td>\n",
              "      <td>0.190090</td>\n",
              "      <td>0.296503</td>\n",
              "      <td>-0.248052</td>\n",
              "      <td>-0.064512</td>\n",
              "      <td>6531.37</td>\n",
              "      <td>0</td>\n",
              "    </tr>\n",
              "    <tr>\n",
              "      <th>2</th>\n",
              "      <td>2</td>\n",
              "      <td>-0.260272</td>\n",
              "      <td>-0.949385</td>\n",
              "      <td>1.728538</td>\n",
              "      <td>-0.457986</td>\n",
              "      <td>0.074062</td>\n",
              "      <td>1.419481</td>\n",
              "      <td>0.743511</td>\n",
              "      <td>-0.095576</td>\n",
              "      <td>-0.261297</td>\n",
              "      <td>...</td>\n",
              "      <td>-0.005020</td>\n",
              "      <td>0.702906</td>\n",
              "      <td>0.945045</td>\n",
              "      <td>-1.154666</td>\n",
              "      <td>-0.605564</td>\n",
              "      <td>-0.312895</td>\n",
              "      <td>-0.300258</td>\n",
              "      <td>-0.244718</td>\n",
              "      <td>2513.54</td>\n",
              "      <td>0</td>\n",
              "    </tr>\n",
              "    <tr>\n",
              "      <th>3</th>\n",
              "      <td>3</td>\n",
              "      <td>-0.152152</td>\n",
              "      <td>-0.508959</td>\n",
              "      <td>1.746840</td>\n",
              "      <td>-1.090178</td>\n",
              "      <td>0.249486</td>\n",
              "      <td>1.143312</td>\n",
              "      <td>0.518269</td>\n",
              "      <td>-0.065130</td>\n",
              "      <td>-0.205698</td>\n",
              "      <td>...</td>\n",
              "      <td>-0.146927</td>\n",
              "      <td>-0.038212</td>\n",
              "      <td>-0.214048</td>\n",
              "      <td>-1.893131</td>\n",
              "      <td>1.003963</td>\n",
              "      <td>-0.515950</td>\n",
              "      <td>-0.165316</td>\n",
              "      <td>0.048424</td>\n",
              "      <td>5384.44</td>\n",
              "      <td>0</td>\n",
              "    </tr>\n",
              "    <tr>\n",
              "      <th>4</th>\n",
              "      <td>4</td>\n",
              "      <td>-0.206820</td>\n",
              "      <td>-0.165280</td>\n",
              "      <td>1.527053</td>\n",
              "      <td>-0.448293</td>\n",
              "      <td>0.106125</td>\n",
              "      <td>0.530549</td>\n",
              "      <td>0.658849</td>\n",
              "      <td>-0.212660</td>\n",
              "      <td>1.049921</td>\n",
              "      <td>...</td>\n",
              "      <td>-0.106984</td>\n",
              "      <td>0.729727</td>\n",
              "      <td>-0.161666</td>\n",
              "      <td>0.312561</td>\n",
              "      <td>-0.414116</td>\n",
              "      <td>1.071126</td>\n",
              "      <td>0.023712</td>\n",
              "      <td>0.419117</td>\n",
              "      <td>14278.97</td>\n",
              "      <td>0</td>\n",
              "    </tr>\n",
              "  </tbody>\n",
              "</table>\n",
              "<p>5 rows × 31 columns</p>\n",
              "</div>"
            ],
            "text/plain": [
              "   id        V1        V2        V3        V4        V5        V6        V7  \\\n",
              "0   0 -0.260648 -0.469648  2.496266 -0.083724  0.129681  0.732898  0.519014   \n",
              "1   1  0.985100 -0.356045  0.558056 -0.429654  0.277140  0.428605  0.406466   \n",
              "2   2 -0.260272 -0.949385  1.728538 -0.457986  0.074062  1.419481  0.743511   \n",
              "3   3 -0.152152 -0.508959  1.746840 -1.090178  0.249486  1.143312  0.518269   \n",
              "4   4 -0.206820 -0.165280  1.527053 -0.448293  0.106125  0.530549  0.658849   \n",
              "\n",
              "         V8        V9  ...       V21       V22       V23       V24       V25  \\\n",
              "0 -0.130006  0.727159  ... -0.110552  0.217606 -0.134794  0.165959  0.126280   \n",
              "1 -0.133118  0.347452  ... -0.194936 -0.605761  0.079469 -0.577395  0.190090   \n",
              "2 -0.095576 -0.261297  ... -0.005020  0.702906  0.945045 -1.154666 -0.605564   \n",
              "3 -0.065130 -0.205698  ... -0.146927 -0.038212 -0.214048 -1.893131  1.003963   \n",
              "4 -0.212660  1.049921  ... -0.106984  0.729727 -0.161666  0.312561 -0.414116   \n",
              "\n",
              "        V26       V27       V28    Amount  Class  \n",
              "0 -0.434824 -0.081230 -0.151045  17982.10      0  \n",
              "1  0.296503 -0.248052 -0.064512   6531.37      0  \n",
              "2 -0.312895 -0.300258 -0.244718   2513.54      0  \n",
              "3 -0.515950 -0.165316  0.048424   5384.44      0  \n",
              "4  1.071126  0.023712  0.419117  14278.97      0  \n",
              "\n",
              "[5 rows x 31 columns]"
            ]
          },
          "execution_count": 11,
          "metadata": {},
          "output_type": "execute_result"
        }
      ],
      "source": [
        "data.head()"
      ]
    },
    {
      "cell_type": "code",
      "execution_count": null,
      "id": "2d77e59c",
      "metadata": {
        "id": "2d77e59c",
        "outputId": "4e74303e-206c-47e8-b358-c7f8eaf7efc4"
      },
      "outputs": [
        {
          "data": {
            "text/html": [
              "<div>\n",
              "<style scoped>\n",
              "    .dataframe tbody tr th:only-of-type {\n",
              "        vertical-align: middle;\n",
              "    }\n",
              "\n",
              "    .dataframe tbody tr th {\n",
              "        vertical-align: top;\n",
              "    }\n",
              "\n",
              "    .dataframe thead th {\n",
              "        text-align: right;\n",
              "    }\n",
              "</style>\n",
              "<table border=\"1\" class=\"dataframe\">\n",
              "  <thead>\n",
              "    <tr style=\"text-align: right;\">\n",
              "      <th></th>\n",
              "      <th>id</th>\n",
              "      <th>V1</th>\n",
              "      <th>V2</th>\n",
              "      <th>V3</th>\n",
              "      <th>V4</th>\n",
              "      <th>V5</th>\n",
              "      <th>V6</th>\n",
              "      <th>V7</th>\n",
              "      <th>V8</th>\n",
              "      <th>V9</th>\n",
              "      <th>...</th>\n",
              "      <th>V21</th>\n",
              "      <th>V22</th>\n",
              "      <th>V23</th>\n",
              "      <th>V24</th>\n",
              "      <th>V25</th>\n",
              "      <th>V26</th>\n",
              "      <th>V27</th>\n",
              "      <th>V28</th>\n",
              "      <th>Amount</th>\n",
              "      <th>Class</th>\n",
              "    </tr>\n",
              "  </thead>\n",
              "  <tbody>\n",
              "    <tr>\n",
              "      <th>568625</th>\n",
              "      <td>568625</td>\n",
              "      <td>-0.833437</td>\n",
              "      <td>0.061886</td>\n",
              "      <td>-0.899794</td>\n",
              "      <td>0.904227</td>\n",
              "      <td>-1.002401</td>\n",
              "      <td>0.481454</td>\n",
              "      <td>-0.370393</td>\n",
              "      <td>0.189694</td>\n",
              "      <td>-0.938153</td>\n",
              "      <td>...</td>\n",
              "      <td>0.167503</td>\n",
              "      <td>0.419731</td>\n",
              "      <td>1.288249</td>\n",
              "      <td>-0.900861</td>\n",
              "      <td>0.560661</td>\n",
              "      <td>-0.006018</td>\n",
              "      <td>3.308968</td>\n",
              "      <td>0.081564</td>\n",
              "      <td>4394.16</td>\n",
              "      <td>1</td>\n",
              "    </tr>\n",
              "    <tr>\n",
              "      <th>568626</th>\n",
              "      <td>568626</td>\n",
              "      <td>-0.670459</td>\n",
              "      <td>-0.202896</td>\n",
              "      <td>-0.068129</td>\n",
              "      <td>-0.267328</td>\n",
              "      <td>-0.133660</td>\n",
              "      <td>0.237148</td>\n",
              "      <td>-0.016935</td>\n",
              "      <td>-0.147733</td>\n",
              "      <td>0.483894</td>\n",
              "      <td>...</td>\n",
              "      <td>0.031874</td>\n",
              "      <td>0.388161</td>\n",
              "      <td>-0.154257</td>\n",
              "      <td>-0.846452</td>\n",
              "      <td>-0.153443</td>\n",
              "      <td>1.961398</td>\n",
              "      <td>-1.528642</td>\n",
              "      <td>1.704306</td>\n",
              "      <td>4653.40</td>\n",
              "      <td>1</td>\n",
              "    </tr>\n",
              "    <tr>\n",
              "      <th>568627</th>\n",
              "      <td>568627</td>\n",
              "      <td>-0.311997</td>\n",
              "      <td>-0.004095</td>\n",
              "      <td>0.137526</td>\n",
              "      <td>-0.035893</td>\n",
              "      <td>-0.042291</td>\n",
              "      <td>0.121098</td>\n",
              "      <td>-0.070958</td>\n",
              "      <td>-0.019997</td>\n",
              "      <td>-0.122048</td>\n",
              "      <td>...</td>\n",
              "      <td>0.140788</td>\n",
              "      <td>0.536523</td>\n",
              "      <td>-0.211100</td>\n",
              "      <td>-0.448909</td>\n",
              "      <td>0.540073</td>\n",
              "      <td>-0.755836</td>\n",
              "      <td>-0.487540</td>\n",
              "      <td>-0.268741</td>\n",
              "      <td>23572.85</td>\n",
              "      <td>1</td>\n",
              "    </tr>\n",
              "    <tr>\n",
              "      <th>568628</th>\n",
              "      <td>568628</td>\n",
              "      <td>0.636871</td>\n",
              "      <td>-0.516970</td>\n",
              "      <td>-0.300889</td>\n",
              "      <td>-0.144480</td>\n",
              "      <td>0.131042</td>\n",
              "      <td>-0.294148</td>\n",
              "      <td>0.580568</td>\n",
              "      <td>-0.207723</td>\n",
              "      <td>0.893527</td>\n",
              "      <td>...</td>\n",
              "      <td>-0.060381</td>\n",
              "      <td>-0.195609</td>\n",
              "      <td>-0.175488</td>\n",
              "      <td>-0.554643</td>\n",
              "      <td>-0.099669</td>\n",
              "      <td>-1.434931</td>\n",
              "      <td>-0.159269</td>\n",
              "      <td>-0.076251</td>\n",
              "      <td>10160.83</td>\n",
              "      <td>1</td>\n",
              "    </tr>\n",
              "    <tr>\n",
              "      <th>568629</th>\n",
              "      <td>568629</td>\n",
              "      <td>-0.795144</td>\n",
              "      <td>0.433236</td>\n",
              "      <td>-0.649140</td>\n",
              "      <td>0.374732</td>\n",
              "      <td>-0.244976</td>\n",
              "      <td>-0.603493</td>\n",
              "      <td>-0.347613</td>\n",
              "      <td>-0.340814</td>\n",
              "      <td>0.253971</td>\n",
              "      <td>...</td>\n",
              "      <td>0.534853</td>\n",
              "      <td>-0.291514</td>\n",
              "      <td>0.157303</td>\n",
              "      <td>0.931030</td>\n",
              "      <td>-0.349423</td>\n",
              "      <td>-1.090974</td>\n",
              "      <td>-1.575113</td>\n",
              "      <td>0.722936</td>\n",
              "      <td>21493.92</td>\n",
              "      <td>1</td>\n",
              "    </tr>\n",
              "  </tbody>\n",
              "</table>\n",
              "<p>5 rows × 31 columns</p>\n",
              "</div>"
            ],
            "text/plain": [
              "            id        V1        V2        V3        V4        V5        V6  \\\n",
              "568625  568625 -0.833437  0.061886 -0.899794  0.904227 -1.002401  0.481454   \n",
              "568626  568626 -0.670459 -0.202896 -0.068129 -0.267328 -0.133660  0.237148   \n",
              "568627  568627 -0.311997 -0.004095  0.137526 -0.035893 -0.042291  0.121098   \n",
              "568628  568628  0.636871 -0.516970 -0.300889 -0.144480  0.131042 -0.294148   \n",
              "568629  568629 -0.795144  0.433236 -0.649140  0.374732 -0.244976 -0.603493   \n",
              "\n",
              "              V7        V8        V9  ...       V21       V22       V23  \\\n",
              "568625 -0.370393  0.189694 -0.938153  ...  0.167503  0.419731  1.288249   \n",
              "568626 -0.016935 -0.147733  0.483894  ...  0.031874  0.388161 -0.154257   \n",
              "568627 -0.070958 -0.019997 -0.122048  ...  0.140788  0.536523 -0.211100   \n",
              "568628  0.580568 -0.207723  0.893527  ... -0.060381 -0.195609 -0.175488   \n",
              "568629 -0.347613 -0.340814  0.253971  ...  0.534853 -0.291514  0.157303   \n",
              "\n",
              "             V24       V25       V26       V27       V28    Amount  Class  \n",
              "568625 -0.900861  0.560661 -0.006018  3.308968  0.081564   4394.16      1  \n",
              "568626 -0.846452 -0.153443  1.961398 -1.528642  1.704306   4653.40      1  \n",
              "568627 -0.448909  0.540073 -0.755836 -0.487540 -0.268741  23572.85      1  \n",
              "568628 -0.554643 -0.099669 -1.434931 -0.159269 -0.076251  10160.83      1  \n",
              "568629  0.931030 -0.349423 -1.090974 -1.575113  0.722936  21493.92      1  \n",
              "\n",
              "[5 rows x 31 columns]"
            ]
          },
          "execution_count": 12,
          "metadata": {},
          "output_type": "execute_result"
        }
      ],
      "source": [
        "data.tail()"
      ]
    },
    {
      "cell_type": "code",
      "execution_count": null,
      "id": "9b1d09fb",
      "metadata": {
        "id": "9b1d09fb",
        "outputId": "6de50d4d-8339-4d03-9ee0-2f8f49b298e6"
      },
      "outputs": [
        {
          "name": "stdout",
          "output_type": "stream",
          "text": [
            "<class 'pandas.core.frame.DataFrame'>\n",
            "RangeIndex: 568630 entries, 0 to 568629\n",
            "Data columns (total 31 columns):\n",
            " #   Column  Non-Null Count   Dtype  \n",
            "---  ------  --------------   -----  \n",
            " 0   id      568630 non-null  int64  \n",
            " 1   V1      568630 non-null  float64\n",
            " 2   V2      568630 non-null  float64\n",
            " 3   V3      568630 non-null  float64\n",
            " 4   V4      568630 non-null  float64\n",
            " 5   V5      568630 non-null  float64\n",
            " 6   V6      568630 non-null  float64\n",
            " 7   V7      568630 non-null  float64\n",
            " 8   V8      568630 non-null  float64\n",
            " 9   V9      568630 non-null  float64\n",
            " 10  V10     568630 non-null  float64\n",
            " 11  V11     568630 non-null  float64\n",
            " 12  V12     568630 non-null  float64\n",
            " 13  V13     568630 non-null  float64\n",
            " 14  V14     568630 non-null  float64\n",
            " 15  V15     568630 non-null  float64\n",
            " 16  V16     568630 non-null  float64\n",
            " 17  V17     568630 non-null  float64\n",
            " 18  V18     568630 non-null  float64\n",
            " 19  V19     568630 non-null  float64\n",
            " 20  V20     568630 non-null  float64\n",
            " 21  V21     568630 non-null  float64\n",
            " 22  V22     568630 non-null  float64\n",
            " 23  V23     568630 non-null  float64\n",
            " 24  V24     568630 non-null  float64\n",
            " 25  V25     568630 non-null  float64\n",
            " 26  V26     568630 non-null  float64\n",
            " 27  V27     568630 non-null  float64\n",
            " 28  V28     568630 non-null  float64\n",
            " 29  Amount  568630 non-null  float64\n",
            " 30  Class   568630 non-null  int64  \n",
            "dtypes: float64(29), int64(2)\n",
            "memory usage: 134.5 MB\n"
          ]
        }
      ],
      "source": [
        "data.info()"
      ]
    },
    {
      "cell_type": "code",
      "execution_count": null,
      "id": "0aed2753",
      "metadata": {
        "id": "0aed2753",
        "outputId": "7d610590-e35a-4ea7-d070-1cb4a6a8c61a"
      },
      "outputs": [
        {
          "data": {
            "text/plain": [
              "id        0\n",
              "V1        0\n",
              "V2        0\n",
              "V3        0\n",
              "V4        0\n",
              "V5        0\n",
              "V6        0\n",
              "V7        0\n",
              "V8        0\n",
              "V9        0\n",
              "V10       0\n",
              "V11       0\n",
              "V12       0\n",
              "V13       0\n",
              "V14       0\n",
              "V15       0\n",
              "V16       0\n",
              "V17       0\n",
              "V18       0\n",
              "V19       0\n",
              "V20       0\n",
              "V21       0\n",
              "V22       0\n",
              "V23       0\n",
              "V24       0\n",
              "V25       0\n",
              "V26       0\n",
              "V27       0\n",
              "V28       0\n",
              "Amount    0\n",
              "Class     0\n",
              "dtype: int64"
            ]
          },
          "execution_count": 14,
          "metadata": {},
          "output_type": "execute_result"
        }
      ],
      "source": [
        "#checking the number of missing values in each column\n",
        "data.isnull().sum()\n"
      ]
    },
    {
      "cell_type": "code",
      "execution_count": null,
      "id": "9586d901",
      "metadata": {
        "id": "9586d901",
        "outputId": "409891c0-81b4-453b-cee4-c6d408c20fb5"
      },
      "outputs": [
        {
          "name": "stdout",
          "output_type": "stream",
          "text": [
            "id\n",
            "V1\n",
            "V2\n",
            "V3\n",
            "V4\n",
            "V5\n",
            "V6\n",
            "V7\n",
            "V8\n",
            "V9\n",
            "V10\n",
            "V11\n",
            "V12\n",
            "V13\n",
            "V14\n",
            "V15\n",
            "V16\n",
            "V17\n",
            "V18\n",
            "V19\n",
            "V20\n",
            "V21\n",
            "V22\n",
            "V23\n",
            "V24\n",
            "V25\n",
            "V26\n",
            "V27\n",
            "V28\n",
            "Amount\n",
            "Class\n"
          ]
        }
      ],
      "source": [
        "# iterating the columns\n",
        "for col in data.columns:\n",
        "    print(col)"
      ]
    },
    {
      "cell_type": "code",
      "execution_count": null,
      "id": "f1dec187",
      "metadata": {
        "id": "f1dec187",
        "outputId": "3ff881d8-8869-4152-90b7-4842ec7156d7"
      },
      "outputs": [
        {
          "data": {
            "text/plain": [
              "count    568630.0\n",
              "mean          1.0\n",
              "std           0.0\n",
              "min           1.0\n",
              "25%           1.0\n",
              "50%           1.0\n",
              "75%           1.0\n",
              "max           1.0\n",
              "Name: count, dtype: float64"
            ]
          },
          "execution_count": 33,
          "metadata": {},
          "output_type": "execute_result"
        }
      ],
      "source": [
        "data['id'].value_counts().describe()"
      ]
    },
    {
      "cell_type": "code",
      "execution_count": null,
      "id": "d2a5deb7",
      "metadata": {
        "id": "d2a5deb7",
        "outputId": "e0c3a3ff-f870-4b29-cd56-c3167f28a453"
      },
      "outputs": [
        {
          "data": {
            "text/plain": [
              "id\n",
              "0         1\n",
              "379089    1\n",
              "379083    1\n",
              "379084    1\n",
              "379085    1\n",
              "         ..\n",
              "189537    1\n",
              "189536    1\n",
              "189535    1\n",
              "189534    1\n",
              "568629    1\n",
              "Name: count, Length: 568630, dtype: int64"
            ]
          },
          "execution_count": 35,
          "metadata": {},
          "output_type": "execute_result"
        }
      ],
      "source": [
        "data['id'].value_counts()"
      ]
    },
    {
      "cell_type": "code",
      "execution_count": null,
      "id": "2cfd1312",
      "metadata": {
        "id": "2cfd1312",
        "outputId": "f6258ecd-1190-4c87-f7fa-aaf4161bc96f"
      },
      "outputs": [
        {
          "data": {
            "text/plain": [
              "Class\n",
              "0    284315\n",
              "1    284315\n",
              "Name: count, dtype: int64"
            ]
          },
          "execution_count": 36,
          "metadata": {},
          "output_type": "execute_result"
        }
      ],
      "source": [
        "data['Class'].value_counts()"
      ]
    },
    {
      "cell_type": "markdown",
      "id": "7c0da97d",
      "metadata": {
        "id": "7c0da97d"
      },
      "source": [
        "This dataset is balanced"
      ]
    },
    {
      "cell_type": "markdown",
      "id": "a0bf587a",
      "metadata": {
        "id": "a0bf587a"
      },
      "source": [
        "0--> Normal transactions,\n",
        "1--> Fraudulent transactions"
      ]
    },
    {
      "cell_type": "code",
      "execution_count": null,
      "id": "8f614fb4",
      "metadata": {
        "id": "8f614fb4"
      },
      "outputs": [],
      "source": [
        "#separating the data for analysis\n",
        "legit = data[data.Class==0]\n",
        "fraud= data[data.Class==1]"
      ]
    },
    {
      "cell_type": "code",
      "execution_count": null,
      "id": "03145115",
      "metadata": {
        "id": "03145115",
        "outputId": "8816bc92-d7db-465d-8758-ae40091814d1"
      },
      "outputs": [
        {
          "name": "stdout",
          "output_type": "stream",
          "text": [
            "(284315, 31)\n",
            "(284315, 31)\n"
          ]
        }
      ],
      "source": [
        "print(legit.shape)\n",
        "print(fraud.shape)"
      ]
    },
    {
      "cell_type": "code",
      "execution_count": null,
      "id": "0b584721",
      "metadata": {
        "id": "0b584721",
        "outputId": "a08989c1-e4b1-4b11-83ab-4c55f2486ef1"
      },
      "outputs": [
        {
          "data": {
            "text/plain": [
              "count    284315.000000\n",
              "mean      12026.313506\n",
              "std        6929.500715\n",
              "min          50.120000\n",
              "25%        6034.540000\n",
              "50%       11996.900000\n",
              "75%       18040.265000\n",
              "max       24039.930000\n",
              "Name: Amount, dtype: float64"
            ]
          },
          "execution_count": 41,
          "metadata": {},
          "output_type": "execute_result"
        }
      ],
      "source": [
        "#statistical measures of the data\n",
        "legit.Amount.describe()"
      ]
    },
    {
      "cell_type": "code",
      "execution_count": null,
      "id": "10592b3e",
      "metadata": {
        "id": "10592b3e",
        "outputId": "504f75bd-f307-41c9-c678-ee5abc7a8ae6"
      },
      "outputs": [
        {
          "data": {
            "text/plain": [
              "count    284315.000000\n",
              "mean      12057.601763\n",
              "std        6909.750891\n",
              "min          50.010000\n",
              "25%        6074.640000\n",
              "50%       12062.450000\n",
              "75%       18033.780000\n",
              "max       24039.930000\n",
              "Name: Amount, dtype: float64"
            ]
          },
          "execution_count": 42,
          "metadata": {},
          "output_type": "execute_result"
        }
      ],
      "source": [
        "fraud.Amount.describe()"
      ]
    },
    {
      "cell_type": "code",
      "execution_count": null,
      "id": "b3118102",
      "metadata": {
        "id": "b3118102",
        "outputId": "97855a85-f87d-4f65-c26b-f56aafe33f9b"
      },
      "outputs": [
        {
          "data": {
            "text/html": [
              "<div>\n",
              "<style scoped>\n",
              "    .dataframe tbody tr th:only-of-type {\n",
              "        vertical-align: middle;\n",
              "    }\n",
              "\n",
              "    .dataframe tbody tr th {\n",
              "        vertical-align: top;\n",
              "    }\n",
              "\n",
              "    .dataframe thead th {\n",
              "        text-align: right;\n",
              "    }\n",
              "</style>\n",
              "<table border=\"1\" class=\"dataframe\">\n",
              "  <thead>\n",
              "    <tr style=\"text-align: right;\">\n",
              "      <th></th>\n",
              "      <th>id</th>\n",
              "      <th>V1</th>\n",
              "      <th>V2</th>\n",
              "      <th>V3</th>\n",
              "      <th>V4</th>\n",
              "      <th>V5</th>\n",
              "      <th>V6</th>\n",
              "      <th>V7</th>\n",
              "      <th>V8</th>\n",
              "      <th>V9</th>\n",
              "      <th>...</th>\n",
              "      <th>V20</th>\n",
              "      <th>V21</th>\n",
              "      <th>V22</th>\n",
              "      <th>V23</th>\n",
              "      <th>V24</th>\n",
              "      <th>V25</th>\n",
              "      <th>V26</th>\n",
              "      <th>V27</th>\n",
              "      <th>V28</th>\n",
              "      <th>Amount</th>\n",
              "    </tr>\n",
              "    <tr>\n",
              "      <th>Class</th>\n",
              "      <th></th>\n",
              "      <th></th>\n",
              "      <th></th>\n",
              "      <th></th>\n",
              "      <th></th>\n",
              "      <th></th>\n",
              "      <th></th>\n",
              "      <th></th>\n",
              "      <th></th>\n",
              "      <th></th>\n",
              "      <th></th>\n",
              "      <th></th>\n",
              "      <th></th>\n",
              "      <th></th>\n",
              "      <th></th>\n",
              "      <th></th>\n",
              "      <th></th>\n",
              "      <th></th>\n",
              "      <th></th>\n",
              "      <th></th>\n",
              "      <th></th>\n",
              "    </tr>\n",
              "  </thead>\n",
              "  <tbody>\n",
              "    <tr>\n",
              "      <th>0</th>\n",
              "      <td>142442.987714</td>\n",
              "      <td>0.505761</td>\n",
              "      <td>-0.491878</td>\n",
              "      <td>0.682095</td>\n",
              "      <td>-0.735981</td>\n",
              "      <td>0.338639</td>\n",
              "      <td>0.435088</td>\n",
              "      <td>0.491234</td>\n",
              "      <td>-0.144294</td>\n",
              "      <td>0.585522</td>\n",
              "      <td>...</td>\n",
              "      <td>-0.179851</td>\n",
              "      <td>-0.10964</td>\n",
              "      <td>-0.014098</td>\n",
              "      <td>-0.010255</td>\n",
              "      <td>0.130107</td>\n",
              "      <td>-0.061847</td>\n",
              "      <td>-0.071052</td>\n",
              "      <td>-0.214002</td>\n",
              "      <td>-0.102024</td>\n",
              "      <td>12026.313506</td>\n",
              "    </tr>\n",
              "    <tr>\n",
              "      <th>1</th>\n",
              "      <td>426186.012286</td>\n",
              "      <td>-0.505761</td>\n",
              "      <td>0.491878</td>\n",
              "      <td>-0.682095</td>\n",
              "      <td>0.735981</td>\n",
              "      <td>-0.338639</td>\n",
              "      <td>-0.435088</td>\n",
              "      <td>-0.491234</td>\n",
              "      <td>0.144294</td>\n",
              "      <td>-0.585522</td>\n",
              "      <td>...</td>\n",
              "      <td>0.179851</td>\n",
              "      <td>0.10964</td>\n",
              "      <td>0.014098</td>\n",
              "      <td>0.010255</td>\n",
              "      <td>-0.130107</td>\n",
              "      <td>0.061847</td>\n",
              "      <td>0.071052</td>\n",
              "      <td>0.214002</td>\n",
              "      <td>0.102024</td>\n",
              "      <td>12057.601763</td>\n",
              "    </tr>\n",
              "  </tbody>\n",
              "</table>\n",
              "<p>2 rows × 30 columns</p>\n",
              "</div>"
            ],
            "text/plain": [
              "                  id        V1        V2        V3        V4        V5  \\\n",
              "Class                                                                    \n",
              "0      142442.987714  0.505761 -0.491878  0.682095 -0.735981  0.338639   \n",
              "1      426186.012286 -0.505761  0.491878 -0.682095  0.735981 -0.338639   \n",
              "\n",
              "             V6        V7        V8        V9  ...       V20      V21  \\\n",
              "Class                                          ...                      \n",
              "0      0.435088  0.491234 -0.144294  0.585522  ... -0.179851 -0.10964   \n",
              "1     -0.435088 -0.491234  0.144294 -0.585522  ...  0.179851  0.10964   \n",
              "\n",
              "            V22       V23       V24       V25       V26       V27       V28  \\\n",
              "Class                                                                         \n",
              "0     -0.014098 -0.010255  0.130107 -0.061847 -0.071052 -0.214002 -0.102024   \n",
              "1      0.014098  0.010255 -0.130107  0.061847  0.071052  0.214002  0.102024   \n",
              "\n",
              "             Amount  \n",
              "Class                \n",
              "0      12026.313506  \n",
              "1      12057.601763  \n",
              "\n",
              "[2 rows x 30 columns]"
            ]
          },
          "execution_count": 43,
          "metadata": {},
          "output_type": "execute_result"
        }
      ],
      "source": [
        "#compare the values for both transactions\n",
        "data.groupby('Class').mean()"
      ]
    },
    {
      "cell_type": "markdown",
      "id": "097abf67",
      "metadata": {
        "id": "097abf67"
      },
      "source": [
        "Under- Sampling"
      ]
    },
    {
      "cell_type": "markdown",
      "id": "c5d38223",
      "metadata": {
        "id": "c5d38223"
      },
      "source": [
        "Build a sample dataset containing similar distribution of normal transactions and fraudulent distribution"
      ]
    },
    {
      "cell_type": "markdown",
      "id": "17da51aa",
      "metadata": {
        "id": "17da51aa"
      },
      "source": [
        "Number of legit transactions--> 284315,\n",
        "Number of fraudulent transactions--> 284315"
      ]
    },
    {
      "cell_type": "code",
      "execution_count": null,
      "id": "a2b3dbef",
      "metadata": {
        "id": "a2b3dbef"
      },
      "outputs": [],
      "source": [
        "legit_sample= legit.sample(n=800)\n",
        "fraud_sample= fraud.sample(n=800)"
      ]
    },
    {
      "cell_type": "markdown",
      "id": "d1a12251",
      "metadata": {
        "id": "d1a12251"
      },
      "source": [
        "concatenating two DataFrames"
      ]
    },
    {
      "cell_type": "code",
      "execution_count": null,
      "id": "2c7401f5",
      "metadata": {
        "id": "2c7401f5"
      },
      "outputs": [],
      "source": [
        "new_dataset= pd.concat([legit_sample,fraud_sample],axis=0)"
      ]
    },
    {
      "cell_type": "code",
      "execution_count": null,
      "id": "3b90ed8e",
      "metadata": {
        "id": "3b90ed8e",
        "outputId": "b31b2390-f41d-4aa5-9fdb-ef887a4e590c"
      },
      "outputs": [
        {
          "data": {
            "text/html": [
              "<div>\n",
              "<style scoped>\n",
              "    .dataframe tbody tr th:only-of-type {\n",
              "        vertical-align: middle;\n",
              "    }\n",
              "\n",
              "    .dataframe tbody tr th {\n",
              "        vertical-align: top;\n",
              "    }\n",
              "\n",
              "    .dataframe thead th {\n",
              "        text-align: right;\n",
              "    }\n",
              "</style>\n",
              "<table border=\"1\" class=\"dataframe\">\n",
              "  <thead>\n",
              "    <tr style=\"text-align: right;\">\n",
              "      <th></th>\n",
              "      <th>id</th>\n",
              "      <th>V1</th>\n",
              "      <th>V2</th>\n",
              "      <th>V3</th>\n",
              "      <th>V4</th>\n",
              "      <th>V5</th>\n",
              "      <th>V6</th>\n",
              "      <th>V7</th>\n",
              "      <th>V8</th>\n",
              "      <th>V9</th>\n",
              "      <th>...</th>\n",
              "      <th>V21</th>\n",
              "      <th>V22</th>\n",
              "      <th>V23</th>\n",
              "      <th>V24</th>\n",
              "      <th>V25</th>\n",
              "      <th>V26</th>\n",
              "      <th>V27</th>\n",
              "      <th>V28</th>\n",
              "      <th>Amount</th>\n",
              "      <th>Class</th>\n",
              "    </tr>\n",
              "  </thead>\n",
              "  <tbody>\n",
              "    <tr>\n",
              "      <th>219384</th>\n",
              "      <td>219384</td>\n",
              "      <td>-0.131479</td>\n",
              "      <td>0.141993</td>\n",
              "      <td>0.953635</td>\n",
              "      <td>0.821038</td>\n",
              "      <td>0.313966</td>\n",
              "      <td>0.773068</td>\n",
              "      <td>0.543296</td>\n",
              "      <td>-0.067266</td>\n",
              "      <td>-0.350559</td>\n",
              "      <td>...</td>\n",
              "      <td>-0.024193</td>\n",
              "      <td>0.637213</td>\n",
              "      <td>-0.182004</td>\n",
              "      <td>0.066360</td>\n",
              "      <td>-0.350867</td>\n",
              "      <td>1.100661</td>\n",
              "      <td>-0.336394</td>\n",
              "      <td>0.309819</td>\n",
              "      <td>21461.61</td>\n",
              "      <td>0</td>\n",
              "    </tr>\n",
              "    <tr>\n",
              "      <th>25475</th>\n",
              "      <td>25475</td>\n",
              "      <td>1.041276</td>\n",
              "      <td>-0.357327</td>\n",
              "      <td>0.754930</td>\n",
              "      <td>-0.361057</td>\n",
              "      <td>0.087896</td>\n",
              "      <td>-0.121182</td>\n",
              "      <td>0.459637</td>\n",
              "      <td>-0.200888</td>\n",
              "      <td>0.503815</td>\n",
              "      <td>...</td>\n",
              "      <td>-0.206941</td>\n",
              "      <td>-0.682337</td>\n",
              "      <td>0.111932</td>\n",
              "      <td>0.805898</td>\n",
              "      <td>0.285300</td>\n",
              "      <td>0.226614</td>\n",
              "      <td>-0.269472</td>\n",
              "      <td>-0.052861</td>\n",
              "      <td>18933.90</td>\n",
              "      <td>0</td>\n",
              "    </tr>\n",
              "    <tr>\n",
              "      <th>260489</th>\n",
              "      <td>260489</td>\n",
              "      <td>0.102409</td>\n",
              "      <td>-0.135197</td>\n",
              "      <td>0.163678</td>\n",
              "      <td>-1.176827</td>\n",
              "      <td>1.173452</td>\n",
              "      <td>1.142177</td>\n",
              "      <td>0.666484</td>\n",
              "      <td>-0.036804</td>\n",
              "      <td>0.433093</td>\n",
              "      <td>...</td>\n",
              "      <td>-0.216930</td>\n",
              "      <td>-0.491295</td>\n",
              "      <td>0.074837</td>\n",
              "      <td>-1.703644</td>\n",
              "      <td>-0.920203</td>\n",
              "      <td>0.516805</td>\n",
              "      <td>0.229243</td>\n",
              "      <td>0.179272</td>\n",
              "      <td>3258.76</td>\n",
              "      <td>0</td>\n",
              "    </tr>\n",
              "    <tr>\n",
              "      <th>64424</th>\n",
              "      <td>64424</td>\n",
              "      <td>1.360050</td>\n",
              "      <td>-0.715281</td>\n",
              "      <td>0.273319</td>\n",
              "      <td>-1.518089</td>\n",
              "      <td>0.029049</td>\n",
              "      <td>-0.036458</td>\n",
              "      <td>0.304912</td>\n",
              "      <td>-0.244800</td>\n",
              "      <td>-0.572337</td>\n",
              "      <td>...</td>\n",
              "      <td>-0.191298</td>\n",
              "      <td>-0.204535</td>\n",
              "      <td>-0.219987</td>\n",
              "      <td>-0.715932</td>\n",
              "      <td>1.308355</td>\n",
              "      <td>-0.064942</td>\n",
              "      <td>-0.236511</td>\n",
              "      <td>-0.099585</td>\n",
              "      <td>12237.93</td>\n",
              "      <td>0</td>\n",
              "    </tr>\n",
              "    <tr>\n",
              "      <th>146783</th>\n",
              "      <td>146783</td>\n",
              "      <td>-0.282249</td>\n",
              "      <td>0.105555</td>\n",
              "      <td>0.092166</td>\n",
              "      <td>-1.010210</td>\n",
              "      <td>0.490826</td>\n",
              "      <td>0.430134</td>\n",
              "      <td>0.729320</td>\n",
              "      <td>-0.275519</td>\n",
              "      <td>1.690744</td>\n",
              "      <td>...</td>\n",
              "      <td>-0.277331</td>\n",
              "      <td>-0.212349</td>\n",
              "      <td>0.385182</td>\n",
              "      <td>0.480674</td>\n",
              "      <td>-2.352328</td>\n",
              "      <td>1.425932</td>\n",
              "      <td>0.235341</td>\n",
              "      <td>0.800793</td>\n",
              "      <td>21600.29</td>\n",
              "      <td>0</td>\n",
              "    </tr>\n",
              "  </tbody>\n",
              "</table>\n",
              "<p>5 rows × 31 columns</p>\n",
              "</div>"
            ],
            "text/plain": [
              "            id        V1        V2        V3        V4        V5        V6  \\\n",
              "219384  219384 -0.131479  0.141993  0.953635  0.821038  0.313966  0.773068   \n",
              "25475    25475  1.041276 -0.357327  0.754930 -0.361057  0.087896 -0.121182   \n",
              "260489  260489  0.102409 -0.135197  0.163678 -1.176827  1.173452  1.142177   \n",
              "64424    64424  1.360050 -0.715281  0.273319 -1.518089  0.029049 -0.036458   \n",
              "146783  146783 -0.282249  0.105555  0.092166 -1.010210  0.490826  0.430134   \n",
              "\n",
              "              V7        V8        V9  ...       V21       V22       V23  \\\n",
              "219384  0.543296 -0.067266 -0.350559  ... -0.024193  0.637213 -0.182004   \n",
              "25475   0.459637 -0.200888  0.503815  ... -0.206941 -0.682337  0.111932   \n",
              "260489  0.666484 -0.036804  0.433093  ... -0.216930 -0.491295  0.074837   \n",
              "64424   0.304912 -0.244800 -0.572337  ... -0.191298 -0.204535 -0.219987   \n",
              "146783  0.729320 -0.275519  1.690744  ... -0.277331 -0.212349  0.385182   \n",
              "\n",
              "             V24       V25       V26       V27       V28    Amount  Class  \n",
              "219384  0.066360 -0.350867  1.100661 -0.336394  0.309819  21461.61      0  \n",
              "25475   0.805898  0.285300  0.226614 -0.269472 -0.052861  18933.90      0  \n",
              "260489 -1.703644 -0.920203  0.516805  0.229243  0.179272   3258.76      0  \n",
              "64424  -0.715932  1.308355 -0.064942 -0.236511 -0.099585  12237.93      0  \n",
              "146783  0.480674 -2.352328  1.425932  0.235341  0.800793  21600.29      0  \n",
              "\n",
              "[5 rows x 31 columns]"
            ]
          },
          "execution_count": 48,
          "metadata": {},
          "output_type": "execute_result"
        }
      ],
      "source": [
        "new_dataset.head()"
      ]
    },
    {
      "cell_type": "code",
      "execution_count": null,
      "id": "3115c473",
      "metadata": {
        "id": "3115c473",
        "outputId": "faf20a2e-5428-4521-cda9-4e059c202921"
      },
      "outputs": [
        {
          "data": {
            "text/html": [
              "<div>\n",
              "<style scoped>\n",
              "    .dataframe tbody tr th:only-of-type {\n",
              "        vertical-align: middle;\n",
              "    }\n",
              "\n",
              "    .dataframe tbody tr th {\n",
              "        vertical-align: top;\n",
              "    }\n",
              "\n",
              "    .dataframe thead th {\n",
              "        text-align: right;\n",
              "    }\n",
              "</style>\n",
              "<table border=\"1\" class=\"dataframe\">\n",
              "  <thead>\n",
              "    <tr style=\"text-align: right;\">\n",
              "      <th></th>\n",
              "      <th>id</th>\n",
              "      <th>V1</th>\n",
              "      <th>V2</th>\n",
              "      <th>V3</th>\n",
              "      <th>V4</th>\n",
              "      <th>V5</th>\n",
              "      <th>V6</th>\n",
              "      <th>V7</th>\n",
              "      <th>V8</th>\n",
              "      <th>V9</th>\n",
              "      <th>...</th>\n",
              "      <th>V21</th>\n",
              "      <th>V22</th>\n",
              "      <th>V23</th>\n",
              "      <th>V24</th>\n",
              "      <th>V25</th>\n",
              "      <th>V26</th>\n",
              "      <th>V27</th>\n",
              "      <th>V28</th>\n",
              "      <th>Amount</th>\n",
              "      <th>Class</th>\n",
              "    </tr>\n",
              "  </thead>\n",
              "  <tbody>\n",
              "    <tr>\n",
              "      <th>412896</th>\n",
              "      <td>412896</td>\n",
              "      <td>-0.817935</td>\n",
              "      <td>0.490379</td>\n",
              "      <td>-0.796826</td>\n",
              "      <td>1.317520</td>\n",
              "      <td>0.345683</td>\n",
              "      <td>-0.757911</td>\n",
              "      <td>-0.166235</td>\n",
              "      <td>-0.287446</td>\n",
              "      <td>-0.431873</td>\n",
              "      <td>...</td>\n",
              "      <td>0.087022</td>\n",
              "      <td>0.401271</td>\n",
              "      <td>-0.086284</td>\n",
              "      <td>-1.044008</td>\n",
              "      <td>0.765322</td>\n",
              "      <td>0.649851</td>\n",
              "      <td>-2.434707</td>\n",
              "      <td>1.147278</td>\n",
              "      <td>13572.59</td>\n",
              "      <td>1</td>\n",
              "    </tr>\n",
              "    <tr>\n",
              "      <th>321307</th>\n",
              "      <td>321307</td>\n",
              "      <td>1.546416</td>\n",
              "      <td>-0.118042</td>\n",
              "      <td>-0.056220</td>\n",
              "      <td>0.821752</td>\n",
              "      <td>0.562230</td>\n",
              "      <td>0.258668</td>\n",
              "      <td>0.408186</td>\n",
              "      <td>-0.128399</td>\n",
              "      <td>0.384191</td>\n",
              "      <td>...</td>\n",
              "      <td>-0.164900</td>\n",
              "      <td>-0.189393</td>\n",
              "      <td>-0.004138</td>\n",
              "      <td>-0.725525</td>\n",
              "      <td>0.047640</td>\n",
              "      <td>0.349719</td>\n",
              "      <td>-0.188060</td>\n",
              "      <td>0.000712</td>\n",
              "      <td>12084.23</td>\n",
              "      <td>1</td>\n",
              "    </tr>\n",
              "    <tr>\n",
              "      <th>533104</th>\n",
              "      <td>533104</td>\n",
              "      <td>-0.247515</td>\n",
              "      <td>0.096539</td>\n",
              "      <td>0.013155</td>\n",
              "      <td>-0.140256</td>\n",
              "      <td>0.130185</td>\n",
              "      <td>-0.381091</td>\n",
              "      <td>-0.029821</td>\n",
              "      <td>0.004379</td>\n",
              "      <td>-0.340204</td>\n",
              "      <td>...</td>\n",
              "      <td>0.105203</td>\n",
              "      <td>-0.063353</td>\n",
              "      <td>-0.321200</td>\n",
              "      <td>-0.379078</td>\n",
              "      <td>0.519708</td>\n",
              "      <td>-1.170409</td>\n",
              "      <td>0.485805</td>\n",
              "      <td>0.607464</td>\n",
              "      <td>9324.72</td>\n",
              "      <td>1</td>\n",
              "    </tr>\n",
              "    <tr>\n",
              "      <th>420213</th>\n",
              "      <td>420213</td>\n",
              "      <td>-0.614155</td>\n",
              "      <td>-1.259334</td>\n",
              "      <td>-0.561114</td>\n",
              "      <td>0.614677</td>\n",
              "      <td>-1.065015</td>\n",
              "      <td>1.734313</td>\n",
              "      <td>2.986113</td>\n",
              "      <td>-0.481076</td>\n",
              "      <td>0.453404</td>\n",
              "      <td>...</td>\n",
              "      <td>-0.236834</td>\n",
              "      <td>-0.206658</td>\n",
              "      <td>-1.889192</td>\n",
              "      <td>0.687181</td>\n",
              "      <td>-0.729296</td>\n",
              "      <td>-0.170756</td>\n",
              "      <td>1.476179</td>\n",
              "      <td>-1.356248</td>\n",
              "      <td>18629.54</td>\n",
              "      <td>1</td>\n",
              "    </tr>\n",
              "    <tr>\n",
              "      <th>294712</th>\n",
              "      <td>294712</td>\n",
              "      <td>-0.731295</td>\n",
              "      <td>1.572177</td>\n",
              "      <td>-1.595154</td>\n",
              "      <td>2.063410</td>\n",
              "      <td>-0.732428</td>\n",
              "      <td>-1.614182</td>\n",
              "      <td>-1.368899</td>\n",
              "      <td>0.961123</td>\n",
              "      <td>-1.731828</td>\n",
              "      <td>...</td>\n",
              "      <td>0.620444</td>\n",
              "      <td>0.214858</td>\n",
              "      <td>0.423992</td>\n",
              "      <td>-1.922600</td>\n",
              "      <td>-0.968179</td>\n",
              "      <td>1.328986</td>\n",
              "      <td>2.358059</td>\n",
              "      <td>1.709709</td>\n",
              "      <td>19547.81</td>\n",
              "      <td>1</td>\n",
              "    </tr>\n",
              "  </tbody>\n",
              "</table>\n",
              "<p>5 rows × 31 columns</p>\n",
              "</div>"
            ],
            "text/plain": [
              "            id        V1        V2        V3        V4        V5        V6  \\\n",
              "412896  412896 -0.817935  0.490379 -0.796826  1.317520  0.345683 -0.757911   \n",
              "321307  321307  1.546416 -0.118042 -0.056220  0.821752  0.562230  0.258668   \n",
              "533104  533104 -0.247515  0.096539  0.013155 -0.140256  0.130185 -0.381091   \n",
              "420213  420213 -0.614155 -1.259334 -0.561114  0.614677 -1.065015  1.734313   \n",
              "294712  294712 -0.731295  1.572177 -1.595154  2.063410 -0.732428 -1.614182   \n",
              "\n",
              "              V7        V8        V9  ...       V21       V22       V23  \\\n",
              "412896 -0.166235 -0.287446 -0.431873  ...  0.087022  0.401271 -0.086284   \n",
              "321307  0.408186 -0.128399  0.384191  ... -0.164900 -0.189393 -0.004138   \n",
              "533104 -0.029821  0.004379 -0.340204  ...  0.105203 -0.063353 -0.321200   \n",
              "420213  2.986113 -0.481076  0.453404  ... -0.236834 -0.206658 -1.889192   \n",
              "294712 -1.368899  0.961123 -1.731828  ...  0.620444  0.214858  0.423992   \n",
              "\n",
              "             V24       V25       V26       V27       V28    Amount  Class  \n",
              "412896 -1.044008  0.765322  0.649851 -2.434707  1.147278  13572.59      1  \n",
              "321307 -0.725525  0.047640  0.349719 -0.188060  0.000712  12084.23      1  \n",
              "533104 -0.379078  0.519708 -1.170409  0.485805  0.607464   9324.72      1  \n",
              "420213  0.687181 -0.729296 -0.170756  1.476179 -1.356248  18629.54      1  \n",
              "294712 -1.922600 -0.968179  1.328986  2.358059  1.709709  19547.81      1  \n",
              "\n",
              "[5 rows x 31 columns]"
            ]
          },
          "execution_count": 49,
          "metadata": {},
          "output_type": "execute_result"
        }
      ],
      "source": [
        "new_dataset.tail()"
      ]
    },
    {
      "cell_type": "code",
      "execution_count": null,
      "id": "aa6b817b",
      "metadata": {
        "id": "aa6b817b",
        "outputId": "d92ce328-ec9e-4378-95e0-a633134b0e67"
      },
      "outputs": [
        {
          "data": {
            "text/plain": [
              "Class\n",
              "0    800\n",
              "1    800\n",
              "Name: count, dtype: int64"
            ]
          },
          "execution_count": 50,
          "metadata": {},
          "output_type": "execute_result"
        }
      ],
      "source": [
        "new_dataset['Class'].value_counts()"
      ]
    },
    {
      "cell_type": "code",
      "execution_count": null,
      "id": "98ebbd71",
      "metadata": {
        "id": "98ebbd71",
        "outputId": "d70be2b8-7f90-49ad-be89-8e37a657b1d2"
      },
      "outputs": [
        {
          "data": {
            "text/html": [
              "<div>\n",
              "<style scoped>\n",
              "    .dataframe tbody tr th:only-of-type {\n",
              "        vertical-align: middle;\n",
              "    }\n",
              "\n",
              "    .dataframe tbody tr th {\n",
              "        vertical-align: top;\n",
              "    }\n",
              "\n",
              "    .dataframe thead th {\n",
              "        text-align: right;\n",
              "    }\n",
              "</style>\n",
              "<table border=\"1\" class=\"dataframe\">\n",
              "  <thead>\n",
              "    <tr style=\"text-align: right;\">\n",
              "      <th></th>\n",
              "      <th>id</th>\n",
              "      <th>V1</th>\n",
              "      <th>V2</th>\n",
              "      <th>V3</th>\n",
              "      <th>V4</th>\n",
              "      <th>V5</th>\n",
              "      <th>V6</th>\n",
              "      <th>V7</th>\n",
              "      <th>V8</th>\n",
              "      <th>V9</th>\n",
              "      <th>...</th>\n",
              "      <th>V20</th>\n",
              "      <th>V21</th>\n",
              "      <th>V22</th>\n",
              "      <th>V23</th>\n",
              "      <th>V24</th>\n",
              "      <th>V25</th>\n",
              "      <th>V26</th>\n",
              "      <th>V27</th>\n",
              "      <th>V28</th>\n",
              "      <th>Amount</th>\n",
              "    </tr>\n",
              "    <tr>\n",
              "      <th>Class</th>\n",
              "      <th></th>\n",
              "      <th></th>\n",
              "      <th></th>\n",
              "      <th></th>\n",
              "      <th></th>\n",
              "      <th></th>\n",
              "      <th></th>\n",
              "      <th></th>\n",
              "      <th></th>\n",
              "      <th></th>\n",
              "      <th></th>\n",
              "      <th></th>\n",
              "      <th></th>\n",
              "      <th></th>\n",
              "      <th></th>\n",
              "      <th></th>\n",
              "      <th></th>\n",
              "      <th></th>\n",
              "      <th></th>\n",
              "      <th></th>\n",
              "      <th></th>\n",
              "    </tr>\n",
              "  </thead>\n",
              "  <tbody>\n",
              "    <tr>\n",
              "      <th>0</th>\n",
              "      <td>144482.72250</td>\n",
              "      <td>0.488293</td>\n",
              "      <td>-0.517348</td>\n",
              "      <td>0.710511</td>\n",
              "      <td>-0.744012</td>\n",
              "      <td>0.340790</td>\n",
              "      <td>0.425064</td>\n",
              "      <td>0.545705</td>\n",
              "      <td>-0.151963</td>\n",
              "      <td>0.591005</td>\n",
              "      <td>...</td>\n",
              "      <td>-0.226200</td>\n",
              "      <td>-0.104454</td>\n",
              "      <td>-0.010676</td>\n",
              "      <td>-0.049085</td>\n",
              "      <td>0.128647</td>\n",
              "      <td>-0.098589</td>\n",
              "      <td>-0.048508</td>\n",
              "      <td>-0.219380</td>\n",
              "      <td>-0.086992</td>\n",
              "      <td>12228.522737</td>\n",
              "    </tr>\n",
              "    <tr>\n",
              "      <th>1</th>\n",
              "      <td>422918.52625</td>\n",
              "      <td>-0.529468</td>\n",
              "      <td>0.511008</td>\n",
              "      <td>-0.706815</td>\n",
              "      <td>0.755236</td>\n",
              "      <td>-0.379165</td>\n",
              "      <td>-0.428741</td>\n",
              "      <td>-0.512588</td>\n",
              "      <td>0.130669</td>\n",
              "      <td>-0.618796</td>\n",
              "      <td>...</td>\n",
              "      <td>0.210003</td>\n",
              "      <td>0.064983</td>\n",
              "      <td>0.072461</td>\n",
              "      <td>0.092950</td>\n",
              "      <td>-0.163914</td>\n",
              "      <td>0.062800</td>\n",
              "      <td>0.095186</td>\n",
              "      <td>0.161228</td>\n",
              "      <td>0.019118</td>\n",
              "      <td>11956.171575</td>\n",
              "    </tr>\n",
              "  </tbody>\n",
              "</table>\n",
              "<p>2 rows × 30 columns</p>\n",
              "</div>"
            ],
            "text/plain": [
              "                 id        V1        V2        V3        V4        V5  \\\n",
              "Class                                                                   \n",
              "0      144482.72250  0.488293 -0.517348  0.710511 -0.744012  0.340790   \n",
              "1      422918.52625 -0.529468  0.511008 -0.706815  0.755236 -0.379165   \n",
              "\n",
              "             V6        V7        V8        V9  ...       V20       V21  \\\n",
              "Class                                          ...                       \n",
              "0      0.425064  0.545705 -0.151963  0.591005  ... -0.226200 -0.104454   \n",
              "1     -0.428741 -0.512588  0.130669 -0.618796  ...  0.210003  0.064983   \n",
              "\n",
              "            V22       V23       V24       V25       V26       V27       V28  \\\n",
              "Class                                                                         \n",
              "0     -0.010676 -0.049085  0.128647 -0.098589 -0.048508 -0.219380 -0.086992   \n",
              "1      0.072461  0.092950 -0.163914  0.062800  0.095186  0.161228  0.019118   \n",
              "\n",
              "             Amount  \n",
              "Class                \n",
              "0      12228.522737  \n",
              "1      11956.171575  \n",
              "\n",
              "[2 rows x 30 columns]"
            ]
          },
          "execution_count": 51,
          "metadata": {},
          "output_type": "execute_result"
        }
      ],
      "source": [
        "new_dataset.groupby('Class').mean()"
      ]
    },
    {
      "cell_type": "markdown",
      "id": "8016552b",
      "metadata": {
        "id": "8016552b"
      },
      "source": [
        "Splitting the data into features and targets"
      ]
    },
    {
      "cell_type": "code",
      "execution_count": null,
      "id": "b3ced538",
      "metadata": {
        "id": "b3ced538"
      },
      "outputs": [],
      "source": [
        "X= new_dataset.drop(columns='Class',axis=1)\n",
        "Y= new_dataset['Class']"
      ]
    },
    {
      "cell_type": "code",
      "execution_count": null,
      "id": "1203d78b",
      "metadata": {
        "id": "1203d78b",
        "outputId": "2f501a2a-3f54-416d-9701-12e19e59518a"
      },
      "outputs": [
        {
          "name": "stdout",
          "output_type": "stream",
          "text": [
            "            id        V1        V2        V3        V4        V5        V6  \\\n",
            "219384  219384 -0.131479  0.141993  0.953635  0.821038  0.313966  0.773068   \n",
            "25475    25475  1.041276 -0.357327  0.754930 -0.361057  0.087896 -0.121182   \n",
            "260489  260489  0.102409 -0.135197  0.163678 -1.176827  1.173452  1.142177   \n",
            "64424    64424  1.360050 -0.715281  0.273319 -1.518089  0.029049 -0.036458   \n",
            "146783  146783 -0.282249  0.105555  0.092166 -1.010210  0.490826  0.430134   \n",
            "...        ...       ...       ...       ...       ...       ...       ...   \n",
            "412896  412896 -0.817935  0.490379 -0.796826  1.317520  0.345683 -0.757911   \n",
            "321307  321307  1.546416 -0.118042 -0.056220  0.821752  0.562230  0.258668   \n",
            "533104  533104 -0.247515  0.096539  0.013155 -0.140256  0.130185 -0.381091   \n",
            "420213  420213 -0.614155 -1.259334 -0.561114  0.614677 -1.065015  1.734313   \n",
            "294712  294712 -0.731295  1.572177 -1.595154  2.063410 -0.732428 -1.614182   \n",
            "\n",
            "              V7        V8        V9  ...       V20       V21       V22  \\\n",
            "219384  0.543296 -0.067266 -0.350559  ... -0.078191 -0.024193  0.637213   \n",
            "25475   0.459637 -0.200888  0.503815  ... -0.243899 -0.206941 -0.682337   \n",
            "260489  0.666484 -0.036804  0.433093  ... -0.075986 -0.216930 -0.491295   \n",
            "64424   0.304912 -0.244800 -0.572337  ... -0.431520 -0.191298 -0.204535   \n",
            "146783  0.729320 -0.275519  1.690744  ...  1.041652 -0.277331 -0.212349   \n",
            "...          ...       ...       ...  ...       ...       ...       ...   \n",
            "412896 -0.166235 -0.287446 -0.431873  ... -0.425166  0.087022  0.401271   \n",
            "321307  0.408186 -0.128399  0.384191  ... -0.458814 -0.164900 -0.189393   \n",
            "533104 -0.029821  0.004379 -0.340204  ...  0.093243  0.105203 -0.063353   \n",
            "420213  2.986113 -0.481076  0.453404  ... -1.040854 -0.236834 -0.206658   \n",
            "294712 -1.368899  0.961123 -1.731828  ...  1.251361  0.620444  0.214858   \n",
            "\n",
            "             V23       V24       V25       V26       V27       V28    Amount  \n",
            "219384 -0.182004  0.066360 -0.350867  1.100661 -0.336394  0.309819  21461.61  \n",
            "25475   0.111932  0.805898  0.285300  0.226614 -0.269472 -0.052861  18933.90  \n",
            "260489  0.074837 -1.703644 -0.920203  0.516805  0.229243  0.179272   3258.76  \n",
            "64424  -0.219987 -0.715932  1.308355 -0.064942 -0.236511 -0.099585  12237.93  \n",
            "146783  0.385182  0.480674 -2.352328  1.425932  0.235341  0.800793  21600.29  \n",
            "...          ...       ...       ...       ...       ...       ...       ...  \n",
            "412896 -0.086284 -1.044008  0.765322  0.649851 -2.434707  1.147278  13572.59  \n",
            "321307 -0.004138 -0.725525  0.047640  0.349719 -0.188060  0.000712  12084.23  \n",
            "533104 -0.321200 -0.379078  0.519708 -1.170409  0.485805  0.607464   9324.72  \n",
            "420213 -1.889192  0.687181 -0.729296 -0.170756  1.476179 -1.356248  18629.54  \n",
            "294712  0.423992 -1.922600 -0.968179  1.328986  2.358059  1.709709  19547.81  \n",
            "\n",
            "[1600 rows x 30 columns]\n"
          ]
        }
      ],
      "source": [
        "print(X)"
      ]
    },
    {
      "cell_type": "code",
      "execution_count": null,
      "id": "5bbf8ef7",
      "metadata": {
        "id": "5bbf8ef7",
        "outputId": "e44ba265-e13f-4ee2-cbb9-051bf2ef7e61"
      },
      "outputs": [
        {
          "name": "stdout",
          "output_type": "stream",
          "text": [
            "219384    0\n",
            "25475     0\n",
            "260489    0\n",
            "64424     0\n",
            "146783    0\n",
            "         ..\n",
            "412896    1\n",
            "321307    1\n",
            "533104    1\n",
            "420213    1\n",
            "294712    1\n",
            "Name: Class, Length: 1600, dtype: int64\n"
          ]
        }
      ],
      "source": [
        "print(Y)"
      ]
    },
    {
      "cell_type": "markdown",
      "id": "85c52b66",
      "metadata": {
        "id": "85c52b66"
      },
      "source": [
        "split the data into training data and testing data"
      ]
    },
    {
      "cell_type": "code",
      "execution_count": null,
      "id": "da22b600",
      "metadata": {
        "id": "da22b600"
      },
      "outputs": [],
      "source": [
        "X_train,X_test,Y_train,Y_test= train_test_split(X,Y, test_size=0.2, stratify=Y, random_state=2)\n"
      ]
    },
    {
      "cell_type": "code",
      "execution_count": null,
      "id": "ba655894",
      "metadata": {
        "id": "ba655894",
        "outputId": "88d4fec4-82b2-46c2-f41d-cc77692f94f8"
      },
      "outputs": [
        {
          "name": "stdout",
          "output_type": "stream",
          "text": [
            "(1600, 30) (1280, 30) (320, 30)\n"
          ]
        }
      ],
      "source": [
        "print(X.shape, X_train.shape, X_test.shape)"
      ]
    },
    {
      "cell_type": "markdown",
      "id": "464d4e95",
      "metadata": {
        "id": "464d4e95"
      },
      "source": [
        "Model Training"
      ]
    },
    {
      "cell_type": "markdown",
      "id": "d60be1cb",
      "metadata": {
        "id": "d60be1cb"
      },
      "source": [
        "Logistic Regression"
      ]
    },
    {
      "cell_type": "code",
      "execution_count": null,
      "id": "f7f14275",
      "metadata": {
        "id": "f7f14275"
      },
      "outputs": [],
      "source": [
        "model= LogisticRegression()"
      ]
    },
    {
      "cell_type": "code",
      "execution_count": null,
      "id": "40bcb48e",
      "metadata": {
        "id": "40bcb48e",
        "outputId": "edf43438-e8bb-48b0-9330-3c532bf4ef7a"
      },
      "outputs": [
        {
          "data": {
            "text/html": [
              "<style>#sk-container-id-1 {color: black;}#sk-container-id-1 pre{padding: 0;}#sk-container-id-1 div.sk-toggleable {background-color: white;}#sk-container-id-1 label.sk-toggleable__label {cursor: pointer;display: block;width: 100%;margin-bottom: 0;padding: 0.3em;box-sizing: border-box;text-align: center;}#sk-container-id-1 label.sk-toggleable__label-arrow:before {content: \"▸\";float: left;margin-right: 0.25em;color: #696969;}#sk-container-id-1 label.sk-toggleable__label-arrow:hover:before {color: black;}#sk-container-id-1 div.sk-estimator:hover label.sk-toggleable__label-arrow:before {color: black;}#sk-container-id-1 div.sk-toggleable__content {max-height: 0;max-width: 0;overflow: hidden;text-align: left;background-color: #f0f8ff;}#sk-container-id-1 div.sk-toggleable__content pre {margin: 0.2em;color: black;border-radius: 0.25em;background-color: #f0f8ff;}#sk-container-id-1 input.sk-toggleable__control:checked~div.sk-toggleable__content {max-height: 200px;max-width: 100%;overflow: auto;}#sk-container-id-1 input.sk-toggleable__control:checked~label.sk-toggleable__label-arrow:before {content: \"▾\";}#sk-container-id-1 div.sk-estimator input.sk-toggleable__control:checked~label.sk-toggleable__label {background-color: #d4ebff;}#sk-container-id-1 div.sk-label input.sk-toggleable__control:checked~label.sk-toggleable__label {background-color: #d4ebff;}#sk-container-id-1 input.sk-hidden--visually {border: 0;clip: rect(1px 1px 1px 1px);clip: rect(1px, 1px, 1px, 1px);height: 1px;margin: -1px;overflow: hidden;padding: 0;position: absolute;width: 1px;}#sk-container-id-1 div.sk-estimator {font-family: monospace;background-color: #f0f8ff;border: 1px dotted black;border-radius: 0.25em;box-sizing: border-box;margin-bottom: 0.5em;}#sk-container-id-1 div.sk-estimator:hover {background-color: #d4ebff;}#sk-container-id-1 div.sk-parallel-item::after {content: \"\";width: 100%;border-bottom: 1px solid gray;flex-grow: 1;}#sk-container-id-1 div.sk-label:hover label.sk-toggleable__label {background-color: #d4ebff;}#sk-container-id-1 div.sk-serial::before {content: \"\";position: absolute;border-left: 1px solid gray;box-sizing: border-box;top: 0;bottom: 0;left: 50%;z-index: 0;}#sk-container-id-1 div.sk-serial {display: flex;flex-direction: column;align-items: center;background-color: white;padding-right: 0.2em;padding-left: 0.2em;position: relative;}#sk-container-id-1 div.sk-item {position: relative;z-index: 1;}#sk-container-id-1 div.sk-parallel {display: flex;align-items: stretch;justify-content: center;background-color: white;position: relative;}#sk-container-id-1 div.sk-item::before, #sk-container-id-1 div.sk-parallel-item::before {content: \"\";position: absolute;border-left: 1px solid gray;box-sizing: border-box;top: 0;bottom: 0;left: 50%;z-index: -1;}#sk-container-id-1 div.sk-parallel-item {display: flex;flex-direction: column;z-index: 1;position: relative;background-color: white;}#sk-container-id-1 div.sk-parallel-item:first-child::after {align-self: flex-end;width: 50%;}#sk-container-id-1 div.sk-parallel-item:last-child::after {align-self: flex-start;width: 50%;}#sk-container-id-1 div.sk-parallel-item:only-child::after {width: 0;}#sk-container-id-1 div.sk-dashed-wrapped {border: 1px dashed gray;margin: 0 0.4em 0.5em 0.4em;box-sizing: border-box;padding-bottom: 0.4em;background-color: white;}#sk-container-id-1 div.sk-label label {font-family: monospace;font-weight: bold;display: inline-block;line-height: 1.2em;}#sk-container-id-1 div.sk-label-container {text-align: center;}#sk-container-id-1 div.sk-container {/* jupyter's `normalize.less` sets `[hidden] { display: none; }` but bootstrap.min.css set `[hidden] { display: none !important; }` so we also need the `!important` here to be able to override the default hidden behavior on the sphinx rendered scikit-learn.org. See: https://github.com/scikit-learn/scikit-learn/issues/21755 */display: inline-block !important;position: relative;}#sk-container-id-1 div.sk-text-repr-fallback {display: none;}</style><div id=\"sk-container-id-1\" class=\"sk-top-container\"><div class=\"sk-text-repr-fallback\"><pre>LogisticRegression()</pre><b>In a Jupyter environment, please rerun this cell to show the HTML representation or trust the notebook. <br />On GitHub, the HTML representation is unable to render, please try loading this page with nbviewer.org.</b></div><div class=\"sk-container\" hidden><div class=\"sk-item\"><div class=\"sk-estimator sk-toggleable\"><input class=\"sk-toggleable__control sk-hidden--visually\" id=\"sk-estimator-id-1\" type=\"checkbox\" checked><label for=\"sk-estimator-id-1\" class=\"sk-toggleable__label sk-toggleable__label-arrow\">LogisticRegression</label><div class=\"sk-toggleable__content\"><pre>LogisticRegression()</pre></div></div></div></div></div>"
            ],
            "text/plain": [
              "LogisticRegression()"
            ]
          },
          "execution_count": 61,
          "metadata": {},
          "output_type": "execute_result"
        }
      ],
      "source": [
        "#training the model with the training data\n",
        "model.fit(X_train, Y_train)"
      ]
    },
    {
      "cell_type": "markdown",
      "id": "3b593b07",
      "metadata": {
        "id": "3b593b07"
      },
      "source": [
        "Model Evaluation"
      ]
    },
    {
      "cell_type": "markdown",
      "id": "cb4e89d3",
      "metadata": {
        "id": "cb4e89d3"
      },
      "source": [
        "Accuracy Score"
      ]
    },
    {
      "cell_type": "code",
      "execution_count": null,
      "id": "ea7f8046",
      "metadata": {
        "id": "ea7f8046"
      },
      "outputs": [],
      "source": [
        "#accuracy on training data\n",
        "X_train_prediction= model.predict(X_train)\n",
        "training_data_accuracy=accuracy_score(X_train_prediction, Y_train)"
      ]
    },
    {
      "cell_type": "code",
      "execution_count": null,
      "id": "98e46e08",
      "metadata": {
        "id": "98e46e08",
        "outputId": "b07a4758-667b-4732-c84a-e131709a213c"
      },
      "outputs": [
        {
          "name": "stdout",
          "output_type": "stream",
          "text": [
            "accuracy on training data: 0.796875\n"
          ]
        }
      ],
      "source": [
        "print('accuracy on training data:',training_data_accuracy)"
      ]
    },
    {
      "cell_type": "code",
      "execution_count": null,
      "id": "3eb76897",
      "metadata": {
        "id": "3eb76897"
      },
      "outputs": [],
      "source": [
        "#accuracy on the test data\n",
        "X_test_prediction= model.predict(X_test)\n",
        "test_data_accuracy=accuracy_score(X_test_prediction, Y_test)"
      ]
    },
    {
      "cell_type": "code",
      "execution_count": null,
      "id": "17214769",
      "metadata": {
        "id": "17214769",
        "outputId": "2a7eecc0-65cb-488b-fc14-0f61613dc59c"
      },
      "outputs": [
        {
          "name": "stdout",
          "output_type": "stream",
          "text": [
            "accuracy on test data: 0.78125\n"
          ]
        }
      ],
      "source": [
        "print('accuracy on test data:',test_data_accuracy)"
      ]
    },
    {
      "cell_type": "code",
      "execution_count": null,
      "id": "abd2761a",
      "metadata": {
        "id": "abd2761a",
        "outputId": "341a170e-d0c8-4081-a69d-6e254ad86cf3"
      },
      "outputs": [
        {
          "data": {
            "text/plain": [
              "<matplotlib.collections.PathCollection at 0x22265f83b90>"
            ]
          },
          "execution_count": 76,
          "metadata": {},
          "output_type": "execute_result"
        },
        {
          "data": {
            "image/png": "[encoded data removed]",
            "text/plain": [
              "<Figure size 640x480 with 1 Axes>"
            ]
          },
          "metadata": {},
          "output_type": "display_data"
        }
      ],
      "source": [
        "#plotting a scatter plot on the data\n",
        "plt.scatter(new_dataset.Amount,new_dataset.Class,marker='+',color='red')"
      ]
    },
    {
      "cell_type": "code",
      "execution_count": null,
      "id": "b35b8c1d",
      "metadata": {
        "id": "b35b8c1d"
      },
      "outputs": [],
      "source": []
    }
  ],
  "metadata": {
    "kernelspec": {
      "display_name": "Python 3 (ipykernel)",
      "language": "python",
      "name": "python3"
    },
    "language_info": {
      "codemirror_mode": {
        "name": "ipython",
        "version": 3
      },
      "file_extension": ".py",
      "mimetype": "text/x-python",
      "name": "python",
      "nbconvert_exporter": "python",
      "pygments_lexer": "ipython3",
      "version": "3.11.5"
    },
    "colab": {
      "provenance": []
    }
  },
  "nbformat": 4,
  "nbformat_minor": 5
}